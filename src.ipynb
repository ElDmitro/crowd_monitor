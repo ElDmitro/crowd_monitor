{
 "cells": [
  {
   "cell_type": "code",
   "execution_count": 1,
   "id": "2acf3b07",
   "metadata": {},
   "outputs": [],
   "source": [
    "import os\n",
    "from csv import DictReader\n",
    "from functools import partial"
   ]
  },
  {
   "cell_type": "code",
   "execution_count": 2,
   "id": "fa27a37c",
   "metadata": {},
   "outputs": [],
   "source": [
    "import numpy as np\n",
    "import pandas as pd"
   ]
  },
  {
   "cell_type": "code",
   "execution_count": 3,
   "id": "20253166",
   "metadata": {},
   "outputs": [],
   "source": [
    "from clickhouse_driver import Client"
   ]
  },
  {
   "cell_type": "code",
   "execution_count": 3,
   "id": "699260af",
   "metadata": {},
   "outputs": [],
   "source": [
    "# from crowdkit.datasets import load_dataset"
   ]
  },
  {
   "cell_type": "markdown",
   "id": "76c73a39",
   "metadata": {},
   "source": [
    "---"
   ]
  },
  {
   "cell_type": "code",
   "execution_count": 4,
   "id": "1de91ae6",
   "metadata": {},
   "outputs": [],
   "source": [
    "DATA_FOLDER = 'TlkUsersAndTasks'"
   ]
  },
  {
   "cell_type": "markdown",
   "id": "8287a231",
   "metadata": {},
   "source": [
    "---"
   ]
  },
  {
   "cell_type": "code",
   "execution_count": 8,
   "id": "d16b6833",
   "metadata": {
    "scrolled": true
   },
   "outputs": [
    {
     "name": "stdout",
     "output_type": "stream",
     "text": [
      "Archive:  source.zip\n",
      "   creating: TlkUsersAndTasks/\n",
      "  inflating: TlkUsersAndTasks/projects.tsv  \n",
      "  inflating: TlkUsersAndTasks/visits.tsv  \n",
      "  inflating: TlkUsersAndTasks/assignments.tsv  \n",
      "  inflating: TlkUsersAndTasks/README.md  \n",
      "  inflating: TlkUsersAndTasks/users.tsv  \n"
     ]
    },
    {
     "name": "stderr",
     "output_type": "stream",
     "text": [
      "  % Total    % Received % Xferd  Average Speed   Time    Time     Time  Current\n",
      "                                 Dload  Upload   Total   Spent    Left  Speed\n",
      "\r",
      "  0     0    0     0    0     0      0      0 --:--:-- --:--:-- --:--:--     0\r",
      "  0 1022M    0 1064k    0     0  1702k      0  0:10:15 --:--:--  0:10:15 1700k\r",
      "  0 1022M    0 3787k    0     0  2324k      0  0:07:30  0:00:01  0:07:29 2323k\r",
      "  0 1022M    0 8499k    0     0  3228k      0  0:05:24  0:00:02  0:05:22 3226k\r",
      "  1 1022M    1 13.5M    0     0  3770k      0  0:04:37  0:00:03  0:04:34 3770k\r",
      "  1 1022M    1 18.2M    0     0  4033k      0  0:04:19  0:00:04  0:04:15 4032k\r",
      "  2 1022M    2 23.9M    0     0  4349k      0  0:04:00  0:00:05  0:03:55 4680k\r",
      "  2 1022M    2 29.6M    0     0  4587k      0  0:03:48  0:00:06  0:03:42 5323k\r",
      "  3 1022M    3 35.9M    0     0  4828k      0  0:03:36  0:00:07  0:03:29 5670k\r",
      "  4 1022M    4 41.6M    0     0  4943k      0  0:03:31  0:00:08  0:03:23 5813k\r",
      "  4 1022M    4 47.4M    0     0  5051k      0  0:03:27  0:00:09  0:03:18 5993k\r",
      "  5 1022M    5 51.7M    0     0  4985k      0  0:03:30  0:00:10  0:03:20 5701k\r",
      "  5 1022M    5 57.0M    0     0  5028k      0  0:03:28  0:00:11  0:03:17 5615k\r",
      "  6 1022M    6 63.0M    0     0  5109k      0  0:03:24  0:00:12  0:03:12 5537k\r",
      "  6 1022M    6 68.6M    0     0  5161k      0  0:03:22  0:00:13  0:03:09 5538k\r",
      "  7 1022M    7 75.2M    0     0  5266k      0  0:03:18  0:00:14  0:03:04 5681k\r",
      "  7 1022M    7 80.8M    0     0  5296k      0  0:03:17  0:00:15  0:03:02 5956k\r",
      "  8 1022M    8 87.0M    0     0  5362k      0  0:03:15  0:00:16  0:02:59 6138k\r",
      "  9 1022M    9 93.0M    0     0  5400k      0  0:03:13  0:00:17  0:02:56 6133k\r",
      "  9 1022M    9 99.4M    0     0  5452k      0  0:03:12  0:00:18  0:02:54 6237k\r",
      " 10 1022M   10  105M    0     0  5495k      0  0:03:10  0:00:19  0:02:51 6160k\r",
      " 10 1022M   10  111M    0     0  5539k      0  0:03:09  0:00:20  0:02:49 6299k\r",
      " 11 1022M   11  117M    0     0  5577k      0  0:03:07  0:00:21  0:02:46 6291k\r",
      " 12 1022M   12  124M    0     0  5613k      0  0:03:06  0:00:22  0:02:44 6369k\r",
      " 12 1022M   12  129M    0     0  5629k      0  0:03:06  0:00:23  0:02:43 6295k\r",
      " 13 1022M   13  134M    0     0  5612k      0  0:03:06  0:00:24  0:02:42 6073k\r",
      " 13 1022M   13  141M    0     0  5651k      0  0:03:05  0:00:25  0:02:40 6114k\r",
      " 14 1022M   14  147M    0     0  5660k      0  0:03:05  0:00:26  0:02:39 6023k\r",
      " 14 1022M   14  152M    0     0  5667k      0  0:03:04  0:00:27  0:02:37 5907k\r",
      " 15 1022M   15  158M    0     0  5669k      0  0:03:04  0:00:28  0:02:36 5859k\r",
      " 16 1022M   16  163M    0     0  5656k      0  0:03:05  0:00:29  0:02:36 5875k\r",
      " 16 1022M   16  167M    0     0  5592k      0  0:03:07  0:00:30  0:02:37 5290k\r",
      " 16 1022M   16  173M    0     0  5626k      0  0:03:06  0:00:31  0:02:35 5442k\r",
      " 17 1022M   17  180M    0     0  5658k      0  0:03:05  0:00:32  0:02:33 5612k\r",
      " 18 1022M   18  185M    0     0  5653k      0  0:03:05  0:00:33  0:02:32 5563k\r",
      " 18 1022M   18  189M    0     0  5608k      0  0:03:06  0:00:34  0:02:32 5321k\r",
      " 19 1022M   19  195M    0     0  5622k      0  0:03:06  0:00:35  0:02:31 5807k\r",
      " 19 1022M   19  201M    0     0  5634k      0  0:03:05  0:00:36  0:02:29 5680k\r",
      " 20 1022M   20  207M    0     0  5649k      0  0:03:05  0:00:37  0:02:28 5591k\r",
      " 20 1022M   20  213M    0     0  5669k      0  0:03:04  0:00:38  0:02:26 5775k\r",
      " 21 1022M   21  220M    0     0  5698k      0  0:03:03  0:00:39  0:02:24 6324k\r",
      " 22 1022M   22  225M    0     0  5682k      0  0:03:04  0:00:40  0:02:24 6109k\r",
      " 22 1022M   22  232M    0     0  5709k      0  0:03:03  0:00:41  0:02:22 6261k\r",
      " 23 1022M   23  239M    0     0  5761k      0  0:03:01  0:00:42  0:02:19 6600k\r",
      " 24 1022M   24  247M    0     0  5802k      0  0:03:00  0:00:43  0:02:17 6826k\r",
      " 24 1022M   24  255M    0     0  5864k      0  0:02:58  0:00:44  0:02:14 7176k\r",
      " 25 1022M   25  262M    0     0  5894k      0  0:02:57  0:00:45  0:02:12 7612k\r",
      " 26 1022M   26  270M    0     0  5935k      0  0:02:56  0:00:46  0:02:10 7817k\r",
      " 27 1022M   27  277M    0     0  5958k      0  0:02:55  0:00:47  0:02:08 7642k\r",
      " 27 1022M   27  281M    0     0  5931k      0  0:02:56  0:00:48  0:02:08 7055k\r",
      " 28 1022M   28  289M    0     0  5964k      0  0:02:55  0:00:49  0:02:06 6860k\r",
      " 28 1022M   28  295M    0     0  5982k      0  0:02:55  0:00:50  0:02:05 6785k\r",
      " 29 1022M   29  302M    0     0  5990k      0  0:02:54  0:00:51  0:02:03 6506k\r",
      " 30 1022M   30  310M    0     0  6035k      0  0:02:53  0:00:52  0:02:01 6769k\r",
      " 31 1022M   31  318M    0     0  6077k      0  0:02:52  0:00:53  0:01:59 7504k\r",
      " 31 1022M   31  325M    0     0  6092k      0  0:02:51  0:00:54  0:01:57 7355k\r",
      " 32 1022M   32  333M    0     0  6134k      0  0:02:50  0:00:55  0:01:55 7671k\r",
      " 33 1022M   33  340M    0     0  6157k      0  0:02:50  0:00:56  0:01:54 7878k\r",
      " 34 1022M   34  347M    0     0  6180k      0  0:02:49  0:00:57  0:01:52 7696k\r",
      " 34 1022M   34  354M    0     0  6197k      0  0:02:48  0:00:58  0:01:50 7483k\r",
      " 35 1022M   35  362M    0     0  6222k      0  0:02:48  0:00:59  0:01:49 7645k\r",
      " 36 1022M   36  369M    0     0  6244k      0  0:02:47  0:01:00  0:01:47 7467k\r",
      " 36 1022M   36  377M    0     0  6264k      0  0:02:47  0:01:01  0:01:46 7472k\r",
      " 37 1022M   37  382M    0     0  6252k      0  0:02:47  0:01:02  0:01:45 7087k\r",
      " 38 1022M   38  389M    0     0  6266k      0  0:02:47  0:01:03  0:01:44 7067k\r",
      " 38 1022M   38  396M    0     0  6289k      0  0:02:46  0:01:04  0:01:42 7094k\r",
      " 39 1022M   39  404M    0     0  6309k      0  0:02:45  0:01:05  0:01:40 7109k\r",
      " 40 1022M   40  411M    0     0  6329k      0  0:02:45  0:01:06  0:01:39 7137k\r",
      " 40 1022M   40  417M    0     0  6325k      0  0:02:45  0:01:07  0:01:38 7238k\r",
      " 41 1022M   41  425M    0     0  6345k      0  0:02:45  0:01:08  0:01:37 7348k\r",
      " 42 1022M   42  432M    0     0  6362k      0  0:02:44  0:01:09  0:01:35 7302k\r",
      " 42 1022M   42  439M    0     0  6365k      0  0:02:44  0:01:10  0:01:34 7101k\r",
      " 43 1022M   43  445M    0     0  6373k      0  0:02:44  0:01:11  0:01:33 6956k\r",
      " 44 1022M   44  452M    0     0  6384k      0  0:02:44  0:01:12  0:01:32 7188k\r",
      " 45 1022M   45  460M    0     0  6406k      0  0:02:43  0:01:13  0:01:30 7247k\r",
      " 45 1022M   45  467M    0     0  6416k      0  0:02:43  0:01:14  0:01:29 7167k\r",
      " 46 1022M   46  474M    0     0  6423k      0  0:02:43  0:01:15  0:01:28 7241k\r",
      " 47 1022M   47  481M    0     0  6429k      0  0:02:42  0:01:16  0:01:26 7224k\r",
      " 47 1022M   47  486M    0     0  6416k      0  0:02:43  0:01:17  0:01:26 6877k\r",
      " 48 1022M   48  492M    0     0  6417k      0  0:02:43  0:01:18  0:01:25 6587k\r",
      " 48 1022M   48  499M    0     0  6427k      0  0:02:42  0:01:19  0:01:23 6595k\r",
      " 49 1022M   49  505M    0     0  6423k      0  0:02:43  0:01:20  0:01:23 6413k\r",
      " 50 1022M   50  512M    0     0  6423k      0  0:02:43  0:01:21  0:01:22 6343k\r",
      " 50 1022M   50  518M    0     0  6430k      0  0:02:42  0:01:22  0:01:20 6641k\r",
      " 51 1022M   51  524M    0     0  6418k      0  0:02:43  0:01:23  0:01:20 6431k\r",
      " 51 1022M   51  531M    0     0  6426k      0  0:02:42  0:01:24  0:01:18 6407k\r",
      " 52 1022M   52  537M    0     0  6432k      0  0:02:42  0:01:25  0:01:17 6583k\r",
      " 53 1022M   53  544M    0     0  6440k      0  0:02:42  0:01:26  0:01:16 6707k\r",
      " 53 1022M   53  551M    0     0  6443k      0  0:02:42  0:01:27  0:01:15 6669k\r",
      " 54 1022M   54  557M    0     0  6436k      0  0:02:42  0:01:28  0:01:14 6741k\r",
      " 55 1022M   55  564M    0     0  6453k      0  0:02:42  0:01:29  0:01:13 6919k\r",
      " 55 1022M   55  571M    0     0  6458k      0  0:02:42  0:01:30  0:01:12 6911k\r",
      " 56 1022M   56  579M    0     0  6471k      0  0:02:41  0:01:31  0:01:10 7009k\r",
      " 57 1022M   57  586M    0     0  6481k      0  0:02:41  0:01:32  0:01:09 7143k\r",
      " 58 1022M   58  593M    0     0  6491k      0  0:02:41  0:01:33  0:01:08 7451k\r",
      " 58 1022M   58  600M    0     0  6499k      0  0:02:41  0:01:34  0:01:07 7325k\r",
      " 59 1022M   59  607M    0     0  6502k      0  0:02:41  0:01:35  0:01:06 7285k\r",
      " 60 1022M   60  614M    0     0  6507k      0  0:02:40  0:01:36  0:01:04 7162k\r",
      " 60 1022M   60  620M    0     0  6512k      0  0:02:40  0:01:37  0:01:03 7083k\r",
      " 61 1022M   61  626M    0     0  6500k      0  0:02:41  0:01:38  0:01:03 6666k\r",
      " 61 1022M   61  632M    0     0  6500k      0  0:02:41  0:01:39  0:01:02 6508k\r",
      " 62 1022M   62  638M    0     0  6501k      0  0:02:41  0:01:40  0:01:01 6498k\r",
      " 62 1022M   62  640M    0     0  6447k      0  0:02:42  0:01:41  0:01:01 5299k\r",
      " 63 1022M   63  646M    0     0  6450k      0  0:02:42  0:01:42  0:01:00 5244k\r",
      " 63 1022M   63  652M    0     0  6449k      0  0:02:42  0:01:43  0:00:59 5460k\r",
      " 64 1022M   64  659M    0     0  6450k      0  0:02:42  0:01:44  0:00:58 5466k\r",
      " 65 1022M   65  665M    0     0  6452k      0  0:02:42  0:01:45  0:00:57 5457k\r",
      " 65 1022M   65  671M    0     0  6442k      0  0:02:42  0:01:46  0:00:56 6352k\r",
      " 66 1022M   66  676M    0     0  6434k      0  0:02:42  0:01:47  0:00:55 6101k\r",
      " 66 1022M   66  680M    0     0  6358k      0  0:02:44  0:01:49  0:00:55 4744k\r",
      " 66 1022M   66  680M    0     0  6341k      0  0:02:45  0:01:49  0:00:56 4129k\r",
      " 67 1022M   67  685M    0     0  6345k      0  0:02:45  0:01:50  0:00:55 4082k\r",
      " 67 1022M   67  692M    0     0  6353k      0  0:02:44  0:01:51  0:00:53 4447k\r",
      " 68 1022M   68  699M    0     0  6357k      0  0:02:44  0:01:52  0:00:52 4696k\r",
      " 68 1022M   68  705M    0     0  6352k      0  0:02:44  0:01:53  0:00:51 6210k\r",
      " 69 1022M   69  711M    0     0  6351k      0  0:02:44  0:01:54  0:00:50 6586k\r",
      " 70 1022M   70  717M    0     0  6351k      0  0:02:44  0:01:55  0:00:49 6494k\r",
      " 70 1022M   70  722M    0     0  6341k      0  0:02:45  0:01:56  0:00:49 6066k\r",
      " 71 1022M   71  727M    0     0  6336k      0  0:02:45  0:01:57  0:00:48 5875k\r",
      " 71 1022M   71  734M    0     0  6337k      0  0:02:45  0:01:58  0:00:47 5980k\r",
      " 72 1022M   72  741M    0     0  6348k      0  0:02:44  0:01:59  0:00:45 6261k\r",
      " 73 1022M   73  748M    0     0  6357k      0  0:02:44  0:02:00  0:00:44 6509k\r",
      " 73 1022M   73  756M    0     0  6371k      0  0:02:44  0:02:01  0:00:43 7068k\r",
      " 74 1022M   74  764M    0     0  6386k      0  0:02:44  0:02:02  0:00:42 7547k\r",
      " 75 1022M   75  770M    0     0  6382k      0  0:02:44  0:02:03  0:00:41 7444k\r",
      " 76 1022M   76  777M    0     0  6387k      0  0:02:43  0:02:04  0:00:39 7339k\r",
      " 76 1022M   76  784M    0     0  6398k      0  0:02:43  0:02:05  0:00:38 7375k\r",
      " 77 1022M   77  791M    0     0  6404k      0  0:02:43  0:02:06  0:00:37 7221k\r",
      " 78 1022M   78  798M    0     0  6406k      0  0:02:43  0:02:07  0:00:36 6898k\r",
      " 78 1022M   78  804M    0     0  6405k      0  0:02:43  0:02:08  0:00:35 6978k\r",
      " 79 1022M   79  810M    0     0  6399k      0  0:02:43  0:02:09  0:00:34 6692k\r",
      " 79 1022M   79  817M    0     0  6404k      0  0:02:43  0:02:10  0:00:33 6567k\r",
      " 80 1022M   80  823M    0     0  6408k      0  0:02:43  0:02:11  0:00:32 6499k\r",
      " 81 1022M   81  831M    0     0  6419k      0  0:02:43  0:02:12  0:00:31 6750k\r",
      " 81 1022M   81  838M    0     0  6425k      0  0:02:42  0:02:13  0:00:29 6956k\r",
      " 82 1022M   82  846M    0     0  6439k      0  0:02:42  0:02:14  0:00:28 7461k\r",
      " 83 1022M   83  853M    0     0  6443k      0  0:02:42  0:02:15  0:00:27 7442k\r",
      " 84 1022M   84  860M    0     0  6451k      0  0:02:42  0:02:16  0:00:26 7591k\r",
      " 84 1022M   84  868M    0     0  6461k      0  0:02:42  0:02:17  0:00:25 7571k\r",
      " 85 1022M   85  875M    0     0  6463k      0  0:02:42  0:02:18  0:00:24 7458k\r",
      " 86 1022M   86  880M    0     0  6458k      0  0:02:42  0:02:19  0:00:23 6984k\r",
      " 86 1022M   86  887M    0     0  6461k      0  0:02:42  0:02:20  0:00:22 6956k\r",
      " 87 1022M   87  895M    0     0  6471k      0  0:02:41  0:02:21  0:00:20 7021k\r",
      " 88 1022M   88  901M    0     0  6473k      0  0:02:41  0:02:22  0:00:19 6818k\r",
      " 88 1022M   88  908M    0     0  6480k      0  0:02:41  0:02:23  0:00:18 6968k\r",
      " 89 1022M   89  916M    0     0  6487k      0  0:02:41  0:02:24  0:00:17 7307k\r",
      " 90 1022M   90  923M    0     0  6496k      0  0:02:41  0:02:25  0:00:16 7476k\r",
      " 91 1022M   91  931M    0     0  6503k      0  0:02:41  0:02:26  0:00:15 7400k\r",
      " 91 1022M   91  937M    0     0  6504k      0  0:02:41  0:02:27  0:00:14 7383k\r",
      " 92 1022M   92  944M    0     0  6509k      0  0:02:40  0:02:28  0:00:12 7347k\r",
      " 92 1022M   92  951M    0     0  6509k      0  0:02:40  0:02:29  0:00:11 7138k\r",
      " 93 1022M   93  958M    0     0  6516k      0  0:02:40  0:02:30  0:00:10 7093k\r",
      " 94 1022M   94  964M    0     0  6516k      0  0:02:40  0:02:31  0:00:09 6898k\r",
      " 94 1022M   94  969M    0     0  6503k      0  0:02:41  0:02:32  0:00:09 6483k\r",
      " 95 1022M   95  974M    0     0  6494k      0  0:02:41  0:02:33  0:00:08 6025k\r",
      " 95 1022M   95  980M    0     0  6490k      0  0:02:41  0:02:34  0:00:07 5908k\r",
      " 96 1022M   96  987M    0     0  6500k      0  0:02:41  0:02:35  0:00:06 6021k\r",
      " 97 1022M   97  995M    0     0  6508k      0  0:02:40  0:02:36  0:00:04 6271k\r",
      " 98 1022M   98 1003M    0     0  6518k      0  0:02:40  0:02:37  0:00:03 6960k\r",
      " 98 1022M   98 1010M    0     0  6524k      0  0:02:40  0:02:38  0:00:02 7464k\r",
      " 99 1022M   99 1016M    0     0  6523k      0  0:02:40  0:02:39  0:00:01 7547k\r",
      "100 1022M  100 1022M    0     0  6531k      0  0:02:40  0:02:40 --:--:-- 7547k\n"
     ]
    }
   ],
   "source": [
    "%%bash\n",
    "curl https://tlk.s3.yandex.net/dataset/TlkUsersAndTasks.zip -o source.zip\n",
    "unzip source.zip"
   ]
  },
  {
   "cell_type": "markdown",
   "id": "0a1cc669",
   "metadata": {},
   "source": [
    "---"
   ]
  },
  {
   "cell_type": "code",
   "execution_count": null,
   "id": "4c75b5ec",
   "metadata": {},
   "outputs": [],
   "source": [
    "# !clickhouser server --http_port 8123 --daemon"
   ]
  },
  {
   "cell_type": "code",
   "execution_count": 5,
   "id": "cb76fecb",
   "metadata": {},
   "outputs": [],
   "source": [
    "client = Client(host='localhost')"
   ]
  },
  {
   "cell_type": "markdown",
   "id": "00d46e61",
   "metadata": {},
   "source": [
    "---"
   ]
  },
  {
   "cell_type": "code",
   "execution_count": 6,
   "id": "6d9b7e05",
   "metadata": {},
   "outputs": [],
   "source": [
    "float_nanvl = lambda x: float(x) if x else 0.0\n",
    "int_optional = lambda x: int(x) if x else None"
   ]
  },
  {
   "cell_type": "code",
   "execution_count": 7,
   "id": "89ac8e03",
   "metadata": {},
   "outputs": [],
   "source": [
    "def tsv_reader(filename, transform):\n",
    "    with open(os.path.join(DATA_FOLDER, filename)) as input_stream:\n",
    "        for row in DictReader(input_stream, delimiter='\\t'):\n",
    "            yield transform(row)"
   ]
  },
  {
   "cell_type": "code",
   "execution_count": 8,
   "id": "ce4254b6",
   "metadata": {},
   "outputs": [],
   "source": [
    "def row_converter(row, column_cast_map):\n",
    "    return {\n",
    "        column: (column_cast_map[column](value) if column in column_cast_map else value)\n",
    "        for column, value in row.items()\n",
    "    }"
   ]
  },
  {
   "cell_type": "markdown",
   "id": "fe702cc9",
   "metadata": {},
   "source": [
    "---"
   ]
  },
  {
   "cell_type": "markdown",
   "id": "de00d322",
   "metadata": {},
   "source": [
    "### Users table"
   ]
  },
  {
   "cell_type": "code",
   "execution_count": null,
   "id": "bdc17b5b",
   "metadata": {},
   "outputs": [],
   "source": [
    "client.execute('''\n",
    "    CREATE TABLE crowd.users (\n",
    "        user_id String,\n",
    "        created_at UInt64\n",
    "    )\n",
    "    ENGINE = MergeTree()\n",
    "    ORDER BY (user_id)\n",
    "''')"
   ]
  },
  {
   "cell_type": "code",
   "execution_count": 54,
   "id": "94478909",
   "metadata": {},
   "outputs": [],
   "source": [
    "users_transform = partial(row_converter, column_cast_map={'created_at': int})"
   ]
  },
  {
   "cell_type": "code",
   "execution_count": 56,
   "id": "fedb4fae",
   "metadata": {},
   "outputs": [],
   "source": [
    "stream_reader = tsv_reader('users.tsv', users_transform)\n",
    "\n",
    "client.execute(\n",
    "    'INSERT INTO crowd.users VALUES',\n",
    "    stream_reader\n",
    ")\n",
    "stream_reader.close()"
   ]
  },
  {
   "cell_type": "code",
   "execution_count": 64,
   "id": "20e2c05d",
   "metadata": {},
   "outputs": [
    {
     "data": {
      "text/plain": [
       "[('user_id', 'String', '', '', '', '', ''),\n",
       " ('created_at', 'UInt64', '', '', '', '', '')]"
      ]
     },
     "execution_count": 64,
     "metadata": {},
     "output_type": "execute_result"
    }
   ],
   "source": [
    "client.execute('DESCRIBE crowd.users')"
   ]
  },
  {
   "cell_type": "code",
   "execution_count": 65,
   "id": "b165c6f2",
   "metadata": {},
   "outputs": [
    {
     "data": {
      "text/plain": [
       "[('0000900e9c8b4242bd747c5063a33028', 1528479404),\n",
       " ('0001030c04654cf2850f675b56cb05a9', 1543384566),\n",
       " ('00023c4a8bea48e8a153df78cad93880', 1543213647)]"
      ]
     },
     "execution_count": 65,
     "metadata": {},
     "output_type": "execute_result"
    }
   ],
   "source": [
    "client.execute('SELECT * FROM crowd.users LIMIT 3')"
   ]
  },
  {
   "cell_type": "markdown",
   "id": "b1930f97",
   "metadata": {},
   "source": [
    "### Visists table"
   ]
  },
  {
   "cell_type": "code",
   "execution_count": 59,
   "id": "d4534dee",
   "metadata": {},
   "outputs": [
    {
     "data": {
      "text/plain": [
       "[]"
      ]
     },
     "execution_count": 59,
     "metadata": {},
     "output_type": "execute_result"
    }
   ],
   "source": [
    "client.execute('''\n",
    "    CREATE TABLE crowd.visits (\n",
    "        user_id String,\n",
    "        assignment_id String,\n",
    "        timestamp UInt64\n",
    "    )\n",
    "    ENGINE = MergeTree()\n",
    "    ORDER BY (user_id)\n",
    "''')"
   ]
  },
  {
   "cell_type": "code",
   "execution_count": 60,
   "id": "cd23a29e",
   "metadata": {},
   "outputs": [],
   "source": [
    "visits_transform = partial(row_converter, column_cast_map={'timestamp': int})"
   ]
  },
  {
   "cell_type": "code",
   "execution_count": 63,
   "id": "22e76879",
   "metadata": {},
   "outputs": [],
   "source": [
    "stream_reader = tsv_reader('visits.tsv', visits_transform)\n",
    "\n",
    "client.execute(\n",
    "    'INSERT INTO crowd.visits VALUES',\n",
    "    stream_reader\n",
    ")\n",
    "stream_reader.close()"
   ]
  },
  {
   "cell_type": "code",
   "execution_count": 66,
   "id": "46537c62",
   "metadata": {},
   "outputs": [
    {
     "data": {
      "text/plain": [
       "[('user_id', 'String', '', '', '', '', ''),\n",
       " ('assignment_id', 'String', '', '', '', '', ''),\n",
       " ('timestamp', 'UInt64', '', '', '', '', '')]"
      ]
     },
     "execution_count": 66,
     "metadata": {},
     "output_type": "execute_result"
    }
   ],
   "source": [
    "client.execute('DESCRIBE crowd.visits')"
   ]
  },
  {
   "cell_type": "code",
   "execution_count": 67,
   "id": "24fe43ae",
   "metadata": {},
   "outputs": [
    {
     "data": {
      "text/plain": [
       "[('0000900e9c8b4242bd747c5063a33028',\n",
       "  '901a59de-7289-415d-b6db-d169645f6748',\n",
       "  1540186755),\n",
       " ('0001030c04654cf2850f675b56cb05a9',\n",
       "  'b380393f-760b-4bc8-b990-6846884734d1',\n",
       "  1543387259),\n",
       " ('0001030c04654cf2850f675b56cb05a9',\n",
       "  '495979f6-b762-4ffb-8552-2866beed7eef',\n",
       "  1543384846)]"
      ]
     },
     "execution_count": 67,
     "metadata": {},
     "output_type": "execute_result"
    }
   ],
   "source": [
    "client.execute('SELECT * FROM crowd.visits LIMIT 3')"
   ]
  },
  {
   "cell_type": "markdown",
   "id": "8982f483",
   "metadata": {},
   "source": [
    "### Project table"
   ]
  },
  {
   "cell_type": "code",
   "execution_count": 124,
   "id": "d62f5c91",
   "metadata": {},
   "outputs": [],
   "source": [
    "project_cast_map = {\n",
    "    'project_creation_timestamp': int,\n",
    "    'project_has_audio': int,\n",
    "    'project_has_button': int,\n",
    "    'project_has_buttonClicked_input': int,\n",
    "    'project_has_checkbox_input': int,\n",
    "    'project_has_externalHtml': int,\n",
    "    'project_has_fileAudio_input': int,\n",
    "    'project_has_fileImg_input': int,\n",
    "    'project_has_fileVideo_input': int,\n",
    "    'project_has_file_input': int,\n",
    "    'project_has_iframe': int,\n",
    "    'project_has_image': int,\n",
    "    'project_has_imageAnnotation_input': int,\n",
    "    'project_has_radio_input': int,\n",
    "    'project_has_sbs': int,\n",
    "    'project_has_select_input': int,\n",
    "    'project_has_sourcesRecorder_input': int,\n",
    "    'project_has_string_input': int,\n",
    "    'project_has_suggest_input': int,\n",
    "    'project_has_textarea_input': int,\n",
    "    'project_has_video': int,\n",
    "    'project_instruction_FK': float_nanvl,\n",
    "    'project_instruction_len': float_nanvl,\n",
    "    'project_instruction_wordCount': float_nanvl,\n",
    "    'project_required_fields': int,\n",
    "    'project_spec_length': int,\n",
    "}\n",
    "projects_transform = partial(row_converter, column_cast_map=project_cast_map)"
   ]
  },
  {
   "cell_type": "code",
   "execution_count": 123,
   "id": "65fc1432",
   "metadata": {},
   "outputs": [
    {
     "data": {
      "text/plain": [
       "[]"
      ]
     },
     "execution_count": 123,
     "metadata": {},
     "output_type": "execute_result"
    }
   ],
   "source": [
    "client.execute('''\n",
    "    CREATE TABLE crowd.projects (\n",
    "        project_creation_timestamp UInt64,\n",
    "        project_has_audio UInt32,\n",
    "        project_has_button UInt32,\n",
    "        project_has_buttonClicked_input UInt32,\n",
    "        project_has_checkbox_input UInt32,\n",
    "        project_has_externalHtml UInt32,\n",
    "        project_has_fileAudio_input UInt32,\n",
    "        project_has_fileImg_input UInt32,\n",
    "        project_has_fileVideo_input UInt32,\n",
    "        project_has_file_input UInt32,\n",
    "        project_has_iframe UInt32,\n",
    "        project_has_image UInt32,\n",
    "        project_has_imageAnnotation_input UInt32,\n",
    "        project_has_radio_input UInt32,\n",
    "        project_has_sbs UInt32,\n",
    "        project_has_select_input UInt32,\n",
    "        project_has_sourcesRecorder_input UInt32,\n",
    "        project_has_string_input UInt32,\n",
    "        project_has_suggest_input UInt32,\n",
    "        project_has_textarea_input UInt32,\n",
    "        project_has_video UInt32,\n",
    "        project_id String,\n",
    "        project_instruction_FK Float64,\n",
    "        project_instruction_language String,\n",
    "        project_instruction_len Float64,\n",
    "        project_instruction_wordCount Float64,\n",
    "        project_required_fields UInt64,\n",
    "        project_spec_length UInt64\n",
    "    )\n",
    "    ENGINE = MergeTree()\n",
    "    ORDER BY (project_id)\n",
    "''')"
   ]
  },
  {
   "cell_type": "code",
   "execution_count": 125,
   "id": "fc424995",
   "metadata": {},
   "outputs": [],
   "source": [
    "stream_reader = tsv_reader('projects.tsv', projects_transform)\n",
    "\n",
    "client.execute(\n",
    "    'INSERT INTO crowd.projects VALUES',\n",
    "    stream_reader\n",
    ")\n",
    "stream_reader.close()"
   ]
  },
  {
   "cell_type": "code",
   "execution_count": 126,
   "id": "536df428",
   "metadata": {},
   "outputs": [
    {
     "data": {
      "text/plain": [
       "[('project_creation_timestamp', 'UInt64', '', '', '', '', ''),\n",
       " ('project_has_audio', 'UInt32', '', '', '', '', ''),\n",
       " ('project_has_button', 'UInt32', '', '', '', '', ''),\n",
       " ('project_has_buttonClicked_input', 'UInt32', '', '', '', '', ''),\n",
       " ('project_has_checkbox_input', 'UInt32', '', '', '', '', ''),\n",
       " ('project_has_externalHtml', 'UInt32', '', '', '', '', ''),\n",
       " ('project_has_fileAudio_input', 'UInt32', '', '', '', '', ''),\n",
       " ('project_has_fileImg_input', 'UInt32', '', '', '', '', ''),\n",
       " ('project_has_fileVideo_input', 'UInt32', '', '', '', '', ''),\n",
       " ('project_has_file_input', 'UInt32', '', '', '', '', ''),\n",
       " ('project_has_iframe', 'UInt32', '', '', '', '', ''),\n",
       " ('project_has_image', 'UInt32', '', '', '', '', ''),\n",
       " ('project_has_imageAnnotation_input', 'UInt32', '', '', '', '', ''),\n",
       " ('project_has_radio_input', 'UInt32', '', '', '', '', ''),\n",
       " ('project_has_sbs', 'UInt32', '', '', '', '', ''),\n",
       " ('project_has_select_input', 'UInt32', '', '', '', '', ''),\n",
       " ('project_has_sourcesRecorder_input', 'UInt32', '', '', '', '', ''),\n",
       " ('project_has_string_input', 'UInt32', '', '', '', '', ''),\n",
       " ('project_has_suggest_input', 'UInt32', '', '', '', '', ''),\n",
       " ('project_has_textarea_input', 'UInt32', '', '', '', '', ''),\n",
       " ('project_has_video', 'UInt32', '', '', '', '', ''),\n",
       " ('project_id', 'String', '', '', '', '', ''),\n",
       " ('project_instruction_FK', 'Float64', '', '', '', '', ''),\n",
       " ('project_instruction_language', 'String', '', '', '', '', ''),\n",
       " ('project_instruction_len', 'Float64', '', '', '', '', ''),\n",
       " ('project_instruction_wordCount', 'Float64', '', '', '', '', ''),\n",
       " ('project_required_fields', 'UInt64', '', '', '', '', ''),\n",
       " ('project_spec_length', 'UInt64', '', '', '', '', '')]"
      ]
     },
     "execution_count": 126,
     "metadata": {},
     "output_type": "execute_result"
    }
   ],
   "source": [
    "client.execute('DESCRIBE crowd.projects')"
   ]
  },
  {
   "cell_type": "code",
   "execution_count": 127,
   "id": "ea9ed252",
   "metadata": {
    "collapsed": true
   },
   "outputs": [
    {
     "data": {
      "text/plain": [
       "[(1428398401,\n",
       "  0,\n",
       "  1,\n",
       "  0,\n",
       "  0,\n",
       "  0,\n",
       "  0,\n",
       "  0,\n",
       "  0,\n",
       "  0,\n",
       "  0,\n",
       "  0,\n",
       "  0,\n",
       "  3,\n",
       "  0,\n",
       "  0,\n",
       "  0,\n",
       "  0,\n",
       "  0,\n",
       "  0,\n",
       "  0,\n",
       "  '1',\n",
       "  20.06825358851674,\n",
       "  'ru',\n",
       "  3208.0,\n",
       "  319.0,\n",
       "  1,\n",
       "  1196),\n",
       " (1446184834,\n",
       "  0,\n",
       "  0,\n",
       "  0,\n",
       "  0,\n",
       "  0,\n",
       "  0,\n",
       "  0,\n",
       "  0,\n",
       "  0,\n",
       "  0,\n",
       "  0,\n",
       "  0,\n",
       "  3,\n",
       "  0,\n",
       "  0,\n",
       "  0,\n",
       "  0,\n",
       "  0,\n",
       "  0,\n",
       "  0,\n",
       "  '10',\n",
       "  18.75511558124029,\n",
       "  'ru',\n",
       "  3397.0,\n",
       "  329.0,\n",
       "  2,\n",
       "  1877),\n",
       " (1494924673,\n",
       "  0,\n",
       "  0,\n",
       "  0,\n",
       "  1,\n",
       "  0,\n",
       "  0,\n",
       "  0,\n",
       "  0,\n",
       "  0,\n",
       "  0,\n",
       "  1,\n",
       "  0,\n",
       "  2,\n",
       "  0,\n",
       "  0,\n",
       "  0,\n",
       "  0,\n",
       "  0,\n",
       "  0,\n",
       "  0,\n",
       "  '100',\n",
       "  40.13924757281552,\n",
       "  'ru',\n",
       "  737.0,\n",
       "  85.0,\n",
       "  2,\n",
       "  698)]"
      ]
     },
     "execution_count": 127,
     "metadata": {},
     "output_type": "execute_result"
    }
   ],
   "source": [
    "client.execute('SELECT * FROM crowd.projects LIMIT 3')"
   ]
  },
  {
   "cell_type": "markdown",
   "id": "5b802847",
   "metadata": {},
   "source": [
    "### Assignments table"
   ]
  },
  {
   "cell_type": "code",
   "execution_count": 24,
   "id": "ce76359a",
   "metadata": {},
   "outputs": [
    {
     "data": {
      "text/plain": [
       "[]"
      ]
     },
     "execution_count": 24,
     "metadata": {},
     "output_type": "execute_result"
    }
   ],
   "source": [
    "client.execute('''\n",
    "    CREATE TABLE crowd.assignments (\n",
    "        assignment_id String,\n",
    "        assignment_project_id String,\n",
    "        assignment_start_time UInt64,\n",
    "        assignment_submit_time UInt64,\n",
    "        microtasks_count UInt64,\n",
    "        assignment_gs_count UInt64,\n",
    "        assignment_gs_correct_count UInt64,\n",
    "        assignment_price Float64,\n",
    "        assignment_type String,\n",
    "        assignment_status String,\n",
    "        os_family String,\n",
    "        device_category String\n",
    "    )\n",
    "    ENGINE = File(TabSeparated)\n",
    "''')"
   ]
  },
  {
   "cell_type": "code",
   "execution_count": 25,
   "id": "118d6612",
   "metadata": {},
   "outputs": [],
   "source": [
    "assignments_cast_map = {\n",
    "    'assignment_start_time': int, \n",
    "    'assignment_submit_time': int, \n",
    "    'microtasks_count': int, \n",
    "    'assignment_gs_count': int, \n",
    "    'assignment_gs_correct_count': int, \n",
    "    'assignment_price': float, \n",
    "}\n",
    "assignment_transform = partial(row_converter, column_cast_map=assignments_cast_map)"
   ]
  },
  {
   "cell_type": "code",
   "execution_count": 26,
   "id": "fd5167f4",
   "metadata": {},
   "outputs": [],
   "source": [
    "stream_reader = tsv_reader('assignments.tsv', assignment_transform)\n",
    "\n",
    "client.execute(\n",
    "    'INSERT INTO crowd.assignments VALUES',\n",
    "    stream_reader, types_check=True\n",
    ")\n",
    "stream_reader.close()"
   ]
  },
  {
   "cell_type": "code",
   "execution_count": 27,
   "id": "7797ae97",
   "metadata": {},
   "outputs": [
    {
     "data": {
      "text/plain": [
       "[('assignment_id', 'String', '', '', '', '', ''),\n",
       " ('assignment_project_id', 'String', '', '', '', '', ''),\n",
       " ('assignment_start_time', 'UInt64', '', '', '', '', ''),\n",
       " ('assignment_submit_time', 'UInt64', '', '', '', '', ''),\n",
       " ('microtasks_count', 'UInt64', '', '', '', '', ''),\n",
       " ('assignment_gs_count', 'UInt64', '', '', '', '', ''),\n",
       " ('assignment_gs_correct_count', 'UInt64', '', '', '', '', ''),\n",
       " ('assignment_price', 'Float64', '', '', '', '', ''),\n",
       " ('assignment_type', 'String', '', '', '', '', ''),\n",
       " ('assignment_status', 'String', '', '', '', '', ''),\n",
       " ('os_family', 'String', '', '', '', '', ''),\n",
       " ('device_category', 'String', '', '', '', '', '')]"
      ]
     },
     "execution_count": 27,
     "metadata": {},
     "output_type": "execute_result"
    }
   ],
   "source": [
    "client.execute('DESCRIBE crowd.assignments')"
   ]
  },
  {
   "cell_type": "code",
   "execution_count": 29,
   "id": "059cec47",
   "metadata": {
    "collapsed": true
   },
   "outputs": [
    {
     "data": {
      "text/plain": [
       "[('fe52c68a-48ec-4837-a24c-4c2bd191431f',\n",
       "  '14',\n",
       "  1538145644,\n",
       "  1538145992,\n",
       "  15,\n",
       "  15,\n",
       "  13,\n",
       "  0.0,\n",
       "  'train',\n",
       "  'APPROVED',\n",
       "  'WINDOWS',\n",
       "  'PERSONAL_COMPUTER'),\n",
       " ('d19953f6-1f53-4b54-8fa4-d7374ca0607b',\n",
       "  '14',\n",
       "  1538150924,\n",
       "  1538151375,\n",
       "  15,\n",
       "  15,\n",
       "  13,\n",
       "  0.0,\n",
       "  'train',\n",
       "  'APPROVED',\n",
       "  'ANDROID',\n",
       "  'SMARTPHONE'),\n",
       " ('3aea0026-faae-4845-8708-9bf323ff8a77',\n",
       "  '14',\n",
       "  1538148115,\n",
       "  1538148369,\n",
       "  15,\n",
       "  15,\n",
       "  9,\n",
       "  0.0,\n",
       "  'train',\n",
       "  'APPROVED',\n",
       "  'WINDOWS',\n",
       "  'PERSONAL_COMPUTER')]"
      ]
     },
     "execution_count": 29,
     "metadata": {},
     "output_type": "execute_result"
    }
   ],
   "source": [
    "client.execute('SELECT * FROM crowd.assignments LIMIT 3')"
   ]
  },
  {
   "cell_type": "markdown",
   "id": "16808e50",
   "metadata": {},
   "source": [
    "---"
   ]
  },
  {
   "cell_type": "code",
   "execution_count": 76,
   "id": "ebafe4f4",
   "metadata": {},
   "outputs": [
    {
     "data": {
      "text/plain": [
       "[]"
      ]
     },
     "execution_count": 76,
     "metadata": {},
     "output_type": "execute_result"
    }
   ],
   "source": [
    "client.execute('''\n",
    "    CREATE TABLE crowd.worker_statistics_daily (\n",
    "        fielddate String,\n",
    "        project_id String,\n",
    "        os_family String,\n",
    "        user_id String,\n",
    "        n_gs_correct UInt64,\n",
    "        n_gs_total UInt64,\n",
    "        earnings Float64,\n",
    "        n_assignments Int64\n",
    "    )\n",
    "    ENGINE = File(TabSeparated)\n",
    "''')"
   ]
  },
  {
   "cell_type": "code",
   "execution_count": 77,
   "id": "9389c1c9",
   "metadata": {},
   "outputs": [
    {
     "data": {
      "text/plain": [
       "[]"
      ]
     },
     "execution_count": 77,
     "metadata": {},
     "output_type": "execute_result"
    }
   ],
   "source": [
    "client.execute('''\n",
    "INSERT INTO crowd.worker_statistics_daily\n",
    "SELECT\n",
    "    fielddate,\n",
    "    project_id,\n",
    "    os_family,\n",
    "    user_id,\n",
    "    \n",
    "    SUM(n_gs_correct) as n_gs_correct,\n",
    "    SUM(n_gs_total) as n_gs_total,\n",
    "    SUM(price) as earnings,\n",
    "    COUNT(*) as n_assignments\n",
    "FROM (\n",
    "    SELECT\n",
    "        src.fielddate as fielddate,\n",
    "        src.user_id as user_id,\n",
    "        src.n_gs_correct as n_gs_correct,\n",
    "        src.n_gs_total as n_gs_total,\n",
    "        src.price as price,\n",
    "        \n",
    "        projects.project_id as project_id,\n",
    "        src.os_family as os_family\n",
    "    FROM (\n",
    "        SELECT\n",
    "            DATE(src.assignment_start_time) as fielddate,\n",
    "            src.assignment_id as assignment_id,\n",
    "            src.os_family as os_family,\n",
    "            src.assignment_project_id as project_id,\n",
    "            workers.user_id as user_id,\n",
    "\n",
    "            src.assignment_gs_correct_count as n_gs_correct,\n",
    "            src.assignment_gs_count as n_gs_total,\n",
    "            src.assignment_price as price\n",
    "        FROM (\n",
    "            SELECT * FROM crowd.assignments\n",
    "            WHERE \n",
    "                assignment_type = 'regular'\n",
    "                AND (assignment_gs_count > 0)\n",
    "        ) as src\n",
    "        JOIN\n",
    "            crowd.visits as workers\n",
    "        ON src.assignment_id = workers.assignment_id\n",
    "    ) as src\n",
    "    JOIN\n",
    "        crowd.projects as projects\n",
    "    ON projects.project_id = src.project_id\n",
    ")\n",
    "GROUP BY (fielddate, project_id, os_family, user_id)\n",
    "'''\n",
    ")"
   ]
  },
  {
   "cell_type": "markdown",
   "id": "61e970c8",
   "metadata": {},
   "source": [
    "---"
   ]
  },
  {
   "cell_type": "code",
   "execution_count": 81,
   "id": "cfed2d1f",
   "metadata": {},
   "outputs": [
    {
     "data": {
      "text/plain": [
       "[]"
      ]
     },
     "execution_count": 81,
     "metadata": {},
     "output_type": "execute_result"
    }
   ],
   "source": [
    "client.execute('''\n",
    "    CREATE TABLE crowd.train_worker_statistics_daily (\n",
    "        fielddate String,\n",
    "        project_id String,\n",
    "        os_family String,\n",
    "        user_id String,\n",
    "        n_gs_correct UInt64,\n",
    "        n_gs_total UInt64,\n",
    "        n_assignments Int64\n",
    "    )\n",
    "    ENGINE = File(TabSeparated)\n",
    "''')"
   ]
  },
  {
   "cell_type": "code",
   "execution_count": 83,
   "id": "c9817dff",
   "metadata": {},
   "outputs": [
    {
     "data": {
      "text/plain": [
       "[]"
      ]
     },
     "execution_count": 83,
     "metadata": {},
     "output_type": "execute_result"
    }
   ],
   "source": [
    "client.execute('''\n",
    "INSERT INTO crowd.train_worker_statistics_daily\n",
    "\n",
    "WITH\n",
    "train_assignments AS (\n",
    "    SELECT\n",
    "        DATE(src.assignment_start_time) as fielddate,\n",
    "        src.assignment_id as assignment_id,\n",
    "        src.os_family as os_family,\n",
    "        src.assignment_project_id as project_id,\n",
    "        workers.user_id as user_id,\n",
    "\n",
    "        src.assignment_gs_correct_count as n_gs_correct,\n",
    "        src.assignment_gs_count as n_gs_total\n",
    "    FROM (\n",
    "        SELECT * FROM crowd.assignments\n",
    "        WHERE \n",
    "            assignment_type = 'train'\n",
    "            AND (assignment_gs_count > 0)\n",
    "    ) as src\n",
    "    JOIN\n",
    "        crowd.visits as workers\n",
    "    ON src.assignment_id = workers.assignment_id\n",
    "),\n",
    "merged_assignments AS (\n",
    "    SELECT\n",
    "        src.fielddate as fielddate,\n",
    "        src.user_id as user_id,\n",
    "        src.n_gs_correct as n_gs_correct,\n",
    "        src.n_gs_total as n_gs_total,\n",
    "        \n",
    "        projects.project_id as project_id,\n",
    "        src.os_family as os_family\n",
    "    FROM \n",
    "        train_assignments as src\n",
    "    JOIN\n",
    "        crowd.projects as projects\n",
    "    ON projects.project_id = src.project_id\n",
    ")\n",
    "    \n",
    "SELECT\n",
    "    fielddate,\n",
    "    project_id,\n",
    "    os_family,\n",
    "    user_id,\n",
    "    \n",
    "    SUM(n_gs_correct) as n_gs_correct,\n",
    "    SUM(n_gs_total) as n_gs_total,\n",
    "    COUNT(*) as n_assignments\n",
    "FROM merged_assignments\n",
    "GROUP BY (fielddate, project_id, os_family, user_id)\n",
    "'''\n",
    ")"
   ]
  },
  {
   "cell_type": "markdown",
   "id": "4d8813ac",
   "metadata": {},
   "source": [
    "---"
   ]
  },
  {
   "cell_type": "code",
   "execution_count": 98,
   "id": "7c586ec8",
   "metadata": {},
   "outputs": [
    {
     "data": {
      "text/plain": [
       "[]"
      ]
     },
     "execution_count": 98,
     "metadata": {},
     "output_type": "execute_result"
    }
   ],
   "source": [
    "client.execute('''\n",
    "    CREATE TABLE crowd.projects_fk (\n",
    "        project_id String,\n",
    "        lang String,\n",
    "        fk Float64,\n",
    "        fk_rank Float64\n",
    "    )\n",
    "    ENGINE = File(TabSeparated)\n",
    "''')"
   ]
  },
  {
   "cell_type": "code",
   "execution_count": 99,
   "id": "deb40fb9",
   "metadata": {},
   "outputs": [
    {
     "data": {
      "text/plain": [
       "[]"
      ]
     },
     "execution_count": 99,
     "metadata": {},
     "output_type": "execute_result"
    }
   ],
   "source": [
    "client.execute('''\n",
    "INSERT INTO crowd.projects_fk\n",
    "\n",
    "WITH project_info AS (\n",
    "    SELECT\n",
    "        project_id,\n",
    "        CASE\n",
    "            WHEN project_instruction_language == '' THEN '_rest'\n",
    "            ELSE project_instruction_language\n",
    "        END as lang,\n",
    "        project_instruction_FK as fk\n",
    "    FROM crowd.projects\n",
    ")\n",
    "\n",
    "SELECT\n",
    "    project_id,\n",
    "    lang,\n",
    "    fk,\n",
    "    RANK() OVER (PARTITION BY lang ORDER BY fk DESC) as fk_rank\n",
    "FROM project_info\n",
    "WHERE lang != '_rest'\n",
    "''')"
   ]
  },
  {
   "cell_type": "markdown",
   "id": "49dce373",
   "metadata": {},
   "source": [
    "---"
   ]
  },
  {
   "cell_type": "code",
   "execution_count": 113,
   "id": "a9d05a17",
   "metadata": {},
   "outputs": [
    {
     "data": {
      "text/plain": [
       "[]"
      ]
     },
     "execution_count": 113,
     "metadata": {},
     "output_type": "execute_result"
    }
   ],
   "source": [
    "client.execute('''\n",
    "CREATE TABLE crowd.user_top1_projects (\n",
    "    user_id String,\n",
    "    project_id String,\n",
    "    m_quantile Float64,\n",
    "    n_submits UInt64\n",
    ")\n",
    "ENGINE = File(TabSeparated)\n",
    "''')"
   ]
  },
  {
   "cell_type": "code",
   "execution_count": 114,
   "id": "a1041532",
   "metadata": {},
   "outputs": [
    {
     "data": {
      "text/plain": [
       "[]"
      ]
     },
     "execution_count": 114,
     "metadata": {},
     "output_type": "execute_result"
    }
   ],
   "source": [
    "client.execute('''\n",
    "INSERT INTO crowd.user_top1_projects\n",
    "WITH\n",
    "assignments AS (\n",
    "    SELECT\n",
    "        src.assignment_id as assignment_id,\n",
    "        src.assignment_project_id as project_id,\n",
    "        workers.user_id as user_id\n",
    "    FROM (\n",
    "        SELECT * FROM crowd.assignments\n",
    "        WHERE \n",
    "            assignment_type = 'regular'\n",
    "    ) as src\n",
    "    JOIN\n",
    "        crowd.visits as workers\n",
    "    ON src.assignment_id = workers.assignment_id\n",
    "),\n",
    "user_project_assignments AS (\n",
    "    SELECT\n",
    "        user_id,\n",
    "        project_id,\n",
    "        COUNT(*) as n_submits\n",
    "    FROM (\n",
    "        SELECT\n",
    "            src.user_id as user_id,\n",
    "            projects.project_id as project_id\n",
    "        FROM \n",
    "            assignments as src\n",
    "        JOIN\n",
    "            crowd.projects as projects\n",
    "        ON projects.project_id = src.project_id\n",
    "    )\n",
    "    GROUP BY (user_id, project_id)\n",
    "),\n",
    "user_project_submit_rank AS (\n",
    "    SELECT\n",
    "        user_id,\n",
    "        project_id,\n",
    "        RANK() OVER(PARTITION BY project_id ORDER BY n_submits DESC) as rank,\n",
    "        n_submits\n",
    "    FROM user_project_assignments\n",
    "),\n",
    "project_max_rank AS (\n",
    "    SELECT\n",
    "        project_id,\n",
    "        MAX(rank) as rank\n",
    "    FROM user_project_submit_rank\n",
    "    GROUP BY project_id\n",
    ")\n",
    "\n",
    "SELECT\n",
    "    user_id,\n",
    "    project_id,\n",
    "    m_quantile,\n",
    "    n_submits\n",
    "FROM (\n",
    "    SELECT\n",
    "        src.user_id as user_id,\n",
    "        src.project_id as project_id,\n",
    "        src.rank * 1.0 / max_rank.rank as m_quantile,\n",
    "        src.n_submits as n_submits\n",
    "    FROM\n",
    "        user_project_submit_rank as src\n",
    "    JOIN\n",
    "        project_max_rank as max_rank\n",
    "    ON src.project_id = max_rank.project_id\n",
    ")\n",
    "WHERE\n",
    "    m_quantile < 0.01\n",
    "    AND n_submits > 20\n",
    "ORDER BY user_id, m_quantile ASC\n",
    "''')"
   ]
  }
 ],
 "metadata": {
  "kernelspec": {
   "display_name": "Python 3",
   "language": "python",
   "name": "python3"
  },
  "language_info": {
   "codemirror_mode": {
    "name": "ipython",
    "version": 3
   },
   "file_extension": ".py",
   "mimetype": "text/x-python",
   "name": "python",
   "nbconvert_exporter": "python",
   "pygments_lexer": "ipython3",
   "version": "3.8.8"
  }
 },
 "nbformat": 4,
 "nbformat_minor": 5
}
